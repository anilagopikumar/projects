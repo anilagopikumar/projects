{
 "cells": [
  {
   "cell_type": "markdown",
   "metadata": {},
   "source": [
    "### Data Dictionary\n",
    "\n",
    "A. track_record_id: Unique number given to each log\n",
    "\n",
    "B. status_code: Log correctness code (61445 indicates good log, all other    status code indicate bad)  \n",
    "\n",
    "C. latitude_gps: latitude of the equipment at the given time\n",
    "\n",
    "D. longitude_gps: longitude of the equipment at the given time\n",
    "\n",
    "E. device_id_x: Equipment identifier (used by team x) \n",
    "\n",
    "F. device_time_stamp: time (datetime) when log is created\n",
    "\n",
    "G. asset_type: 4xxx = movable equipment type 1; 6xxx = stationary equipment type 1;  8xxx = movable equipment type 2;    7xxx = stationary equipment type 2\n",
    "\n",
    "H. packet_generating_station_id: Equipment identifier (to be used by internship candidate)\n",
    "\n",
    "I. track_num1: Indicates whether equipment ignition is ON (1) or OFF (0)\n",
    "\n",
    "J. asset_id_project: Equipment identifier (used by team y)\n",
    "\n",
    "K. project_id: project number where the equipment is working at the given time\n",
    "\n",
    "L. supportsite_id: segment of project to which the equipment is assigned to\n"
   ]
  },
  {
   "cell_type": "code",
   "execution_count": 1,
   "metadata": {
    "collapsed": true
   },
   "outputs": [],
   "source": [
    "import pandas as pd"
   ]
  },
  {
   "cell_type": "code",
   "execution_count": 2,
   "metadata": {
    "collapsed": false
   },
   "outputs": [
    {
     "name": "stderr",
     "output_type": "stream",
     "text": [
      "/Users/yadunandan/anaconda/lib/python3.6/site-packages/IPython/core/interactiveshell.py:2717: DtypeWarning: Columns (0,1,2,3,4,6,7,8,10,11) have mixed types. Specify dtype option on import or set low_memory=False.\n",
      "  interactivity=interactivity, compiler=compiler, result=result)\n"
     ]
    }
   ],
   "source": [
    "df = pd.read_csv(\"Data_for_intern_project_1.csv\")"
   ]
  },
  {
   "cell_type": "code",
   "execution_count": 3,
   "metadata": {
    "collapsed": false
   },
   "outputs": [
    {
     "data": {
      "text/plain": [
       "(236343, 12)"
      ]
     },
     "execution_count": 3,
     "metadata": {},
     "output_type": "execute_result"
    }
   ],
   "source": [
    "df.shape"
   ]
  },
  {
   "cell_type": "code",
   "execution_count": 5,
   "metadata": {
    "collapsed": false
   },
   "outputs": [
    {
     "data": {
      "text/html": [
       "<div>\n",
       "<style>\n",
       "    .dataframe thead tr:only-child th {\n",
       "        text-align: right;\n",
       "    }\n",
       "\n",
       "    .dataframe thead th {\n",
       "        text-align: left;\n",
       "    }\n",
       "\n",
       "    .dataframe tbody tr th {\n",
       "        vertical-align: top;\n",
       "    }\n",
       "</style>\n",
       "<table border=\"1\" class=\"dataframe\">\n",
       "  <thead>\n",
       "    <tr style=\"text-align: right;\">\n",
       "      <th></th>\n",
       "      <th>0</th>\n",
       "      <th>1</th>\n",
       "      <th>2</th>\n",
       "      <th>3</th>\n",
       "      <th>4</th>\n",
       "    </tr>\n",
       "  </thead>\n",
       "  <tbody>\n",
       "    <tr>\n",
       "      <th>track_record_id</th>\n",
       "      <td>59231753</td>\n",
       "      <td>59231858</td>\n",
       "      <td>59231969</td>\n",
       "      <td>59232069</td>\n",
       "      <td>59232173</td>\n",
       "    </tr>\n",
       "    <tr>\n",
       "      <th>status_code</th>\n",
       "      <td>61441</td>\n",
       "      <td>61441</td>\n",
       "      <td>61441</td>\n",
       "      <td>61441</td>\n",
       "      <td>61441</td>\n",
       "    </tr>\n",
       "    <tr>\n",
       "      <th>latitude_gps</th>\n",
       "      <td>0</td>\n",
       "      <td>0</td>\n",
       "      <td>0</td>\n",
       "      <td>0</td>\n",
       "      <td>0</td>\n",
       "    </tr>\n",
       "    <tr>\n",
       "      <th>longitude_gps</th>\n",
       "      <td>0</td>\n",
       "      <td>0</td>\n",
       "      <td>0</td>\n",
       "      <td>0</td>\n",
       "      <td>0</td>\n",
       "    </tr>\n",
       "    <tr>\n",
       "      <th>device_id_x</th>\n",
       "      <td>1001020218</td>\n",
       "      <td>1001020218</td>\n",
       "      <td>1001020218</td>\n",
       "      <td>1001020218</td>\n",
       "      <td>1001020218</td>\n",
       "    </tr>\n",
       "    <tr>\n",
       "      <th>device_time_stamp</th>\n",
       "      <td>12/13/2017 0:00</td>\n",
       "      <td>12/13/2017 0:01</td>\n",
       "      <td>12/13/2017 0:02</td>\n",
       "      <td>12/13/2017 0:03</td>\n",
       "      <td>12/13/2017 0:04</td>\n",
       "    </tr>\n",
       "    <tr>\n",
       "      <th>asset_type</th>\n",
       "      <td>4111</td>\n",
       "      <td>4111</td>\n",
       "      <td>4111</td>\n",
       "      <td>4111</td>\n",
       "      <td>4111</td>\n",
       "    </tr>\n",
       "    <tr>\n",
       "      <th>packet_generating_station_id</th>\n",
       "      <td>411100000001</td>\n",
       "      <td>411100000001</td>\n",
       "      <td>411100000001</td>\n",
       "      <td>411100000001</td>\n",
       "      <td>411100000001</td>\n",
       "    </tr>\n",
       "    <tr>\n",
       "      <th>track_num1</th>\n",
       "      <td>0</td>\n",
       "      <td>0</td>\n",
       "      <td>0</td>\n",
       "      <td>0</td>\n",
       "      <td>0</td>\n",
       "    </tr>\n",
       "    <tr>\n",
       "      <th>asset_id_project</th>\n",
       "      <td>MPV/27</td>\n",
       "      <td>MPV/27</td>\n",
       "      <td>MPV/27</td>\n",
       "      <td>MPV/27</td>\n",
       "      <td>MPV/27</td>\n",
       "    </tr>\n",
       "    <tr>\n",
       "      <th>project_id</th>\n",
       "      <td>2</td>\n",
       "      <td>2</td>\n",
       "      <td>2</td>\n",
       "      <td>2</td>\n",
       "      <td>2</td>\n",
       "    </tr>\n",
       "    <tr>\n",
       "      <th>supportsite_id</th>\n",
       "      <td>2</td>\n",
       "      <td>2</td>\n",
       "      <td>2</td>\n",
       "      <td>2</td>\n",
       "      <td>2</td>\n",
       "    </tr>\n",
       "  </tbody>\n",
       "</table>\n",
       "</div>"
      ],
      "text/plain": [
       "                                            0                1  \\\n",
       "track_record_id                      59231753         59231858   \n",
       "status_code                             61441            61441   \n",
       "latitude_gps                                0                0   \n",
       "longitude_gps                               0                0   \n",
       "device_id_x                        1001020218       1001020218   \n",
       "device_time_stamp             12/13/2017 0:00  12/13/2017 0:01   \n",
       "asset_type                               4111             4111   \n",
       "packet_generating_station_id     411100000001     411100000001   \n",
       "track_num1                                  0                0   \n",
       "asset_id_project                       MPV/27           MPV/27   \n",
       "project_id                                  2                2   \n",
       "supportsite_id                              2                2   \n",
       "\n",
       "                                            2                3  \\\n",
       "track_record_id                      59231969         59232069   \n",
       "status_code                             61441            61441   \n",
       "latitude_gps                                0                0   \n",
       "longitude_gps                               0                0   \n",
       "device_id_x                        1001020218       1001020218   \n",
       "device_time_stamp             12/13/2017 0:02  12/13/2017 0:03   \n",
       "asset_type                               4111             4111   \n",
       "packet_generating_station_id     411100000001     411100000001   \n",
       "track_num1                                  0                0   \n",
       "asset_id_project                       MPV/27           MPV/27   \n",
       "project_id                                  2                2   \n",
       "supportsite_id                              2                2   \n",
       "\n",
       "                                            4  \n",
       "track_record_id                      59232173  \n",
       "status_code                             61441  \n",
       "latitude_gps                                0  \n",
       "longitude_gps                               0  \n",
       "device_id_x                        1001020218  \n",
       "device_time_stamp             12/13/2017 0:04  \n",
       "asset_type                               4111  \n",
       "packet_generating_station_id     411100000001  \n",
       "track_num1                                  0  \n",
       "asset_id_project                       MPV/27  \n",
       "project_id                                  2  \n",
       "supportsite_id                              2  "
      ]
     },
     "execution_count": 5,
     "metadata": {},
     "output_type": "execute_result"
    }
   ],
   "source": [
    "#transpose of top 5 columns to view the data \n",
    "df.head().T"
   ]
  },
  {
   "cell_type": "code",
   "execution_count": 7,
   "metadata": {
    "collapsed": false
   },
   "outputs": [],
   "source": [
    "# 61445 indicates good log\n",
    "# let us filter only good logs\n",
    "df2 = df[df[\"status_code\"] == 61445].copy()"
   ]
  },
  {
   "cell_type": "code",
   "execution_count": 9,
   "metadata": {
    "collapsed": false
   },
   "outputs": [
    {
     "data": {
      "text/plain": [
       "27"
      ]
     },
     "execution_count": 9,
     "metadata": {},
     "output_type": "execute_result"
    }
   ],
   "source": [
    "# Equipment identifier (to be used by internship candidate)\n",
    "df2[\"packet_generating_station_id\"].nunique()"
   ]
  },
  {
   "cell_type": "code",
   "execution_count": 13,
   "metadata": {
    "collapsed": false
   },
   "outputs": [
    {
     "name": "stdout",
     "output_type": "stream",
     "text": [
      "279.35290160386563\n"
     ]
    },
    {
     "name": "stderr",
     "output_type": "stream",
     "text": [
      "/Users/yadunandan/anaconda/lib/python3.6/site-packages/ipykernel/__main__.py:5: DeprecationWarning: Vincenty is deprecated and is going to be removed in geopy 2.0. Use `geopy.distance.geodesic` (or the default `geopy.distance.distance`) instead, which is more accurate and always converges.\n"
     ]
    }
   ],
   "source": [
    "import geopy.distance\n",
    "coords_1 = (52.2296756, 21.0122287)\n",
    "coords_2 = (52.406374, 16.9251681)\n",
    "\n",
    "print(geopy.distance.vincenty(coords_1, coords_2).km)"
   ]
  },
  {
   "cell_type": "code",
   "execution_count": 43,
   "metadata": {
    "collapsed": true
   },
   "outputs": [],
   "source": [
    "# Time stamp to pandas datetime data type\n",
    "df2['device_time_stamp'] = pd.to_datetime(df2['device_time_stamp'])"
   ]
  },
  {
   "cell_type": "code",
   "execution_count": 44,
   "metadata": {
    "collapsed": true
   },
   "outputs": [],
   "source": [
    "#removing time stamp to calculate distnce on daily basis\n",
    "df2['date'] = df2['device_time_stamp'].dt.date"
   ]
  },
  {
   "cell_type": "markdown",
   "metadata": {},
   "source": [
    "#### Bring Logitude and lattitude in a single column as tuple"
   ]
  },
  {
   "cell_type": "code",
   "execution_count": 18,
   "metadata": {
    "collapsed": true
   },
   "outputs": [],
   "source": [
    "df2['lat_long'] = df[['latitude_gps', 'longitude_gps']].apply(tuple, axis=1)"
   ]
  },
  {
   "cell_type": "code",
   "execution_count": 20,
   "metadata": {
    "collapsed": false
   },
   "outputs": [
    {
     "data": {
      "text/plain": [
       "196608    (28.19039917, 77.42134857)\n",
       "196609     (28.19041061, 77.4213562)\n",
       "196610    (28.19039917, 77.42134857)\n",
       "196611    (28.19039917, 77.42134857)\n",
       "196612    (28.19039917, 77.42134857)\n",
       "Name: lat_long, dtype: object"
      ]
     },
     "execution_count": 20,
     "metadata": {},
     "output_type": "execute_result"
    }
   ],
   "source": [
    "df2['lat_long'].head()"
   ]
  },
  {
   "cell_type": "code",
   "execution_count": 46,
   "metadata": {
    "collapsed": true
   },
   "outputs": [],
   "source": [
    "def conv_list(series):\n",
    "    return tuple(series)"
   ]
  },
  {
   "cell_type": "code",
   "execution_count": 47,
   "metadata": {
    "collapsed": false
   },
   "outputs": [],
   "source": [
    "# Group by on Equipment ID and date to get Daily distance travelled\n",
    "df3 = df2.groupby(['packet_generating_station_id','date']).agg({'lat_long':conv_list}).reset_index()"
   ]
  },
  {
   "cell_type": "code",
   "execution_count": 48,
   "metadata": {
    "collapsed": false
   },
   "outputs": [
    {
     "data": {
      "text/html": [
       "<div>\n",
       "<style>\n",
       "    .dataframe thead tr:only-child th {\n",
       "        text-align: right;\n",
       "    }\n",
       "\n",
       "    .dataframe thead th {\n",
       "        text-align: left;\n",
       "    }\n",
       "\n",
       "    .dataframe tbody tr th {\n",
       "        vertical-align: top;\n",
       "    }\n",
       "</style>\n",
       "<table border=\"1\" class=\"dataframe\">\n",
       "  <thead>\n",
       "    <tr style=\"text-align: right;\">\n",
       "      <th></th>\n",
       "      <th>packet_generating_station_id</th>\n",
       "      <th>date</th>\n",
       "      <th>lat_long</th>\n",
       "    </tr>\n",
       "  </thead>\n",
       "  <tbody>\n",
       "    <tr>\n",
       "      <th>0</th>\n",
       "      <td>401100000001</td>\n",
       "      <td>2017-12-17</td>\n",
       "      <td>((28.14563942, 77.38845062), (28.14537048, 77....</td>\n",
       "    </tr>\n",
       "    <tr>\n",
       "      <th>1</th>\n",
       "      <td>403100000048</td>\n",
       "      <td>2017-12-17</td>\n",
       "      <td>((28.19039917, 77.42134857), (28.19041061, 77....</td>\n",
       "    </tr>\n",
       "    <tr>\n",
       "      <th>2</th>\n",
       "      <td>404100000005</td>\n",
       "      <td>2017-12-17</td>\n",
       "      <td>((28.14064026, 77.37538147), (28.14064026, 77....</td>\n",
       "    </tr>\n",
       "    <tr>\n",
       "      <th>3</th>\n",
       "      <td>405100000003</td>\n",
       "      <td>2017-12-17</td>\n",
       "      <td>((28.14146042, 77.37531281), (28.14145088, 77....</td>\n",
       "    </tr>\n",
       "    <tr>\n",
       "      <th>4</th>\n",
       "      <td>406100000024</td>\n",
       "      <td>2017-12-17</td>\n",
       "      <td>((28.22020912, 77.43312073), (28.22020912, 77....</td>\n",
       "    </tr>\n",
       "  </tbody>\n",
       "</table>\n",
       "</div>"
      ],
      "text/plain": [
       "   packet_generating_station_id        date  \\\n",
       "0                  401100000001  2017-12-17   \n",
       "1                  403100000048  2017-12-17   \n",
       "2                  404100000005  2017-12-17   \n",
       "3                  405100000003  2017-12-17   \n",
       "4                  406100000024  2017-12-17   \n",
       "\n",
       "                                            lat_long  \n",
       "0  ((28.14563942, 77.38845062), (28.14537048, 77....  \n",
       "1  ((28.19039917, 77.42134857), (28.19041061, 77....  \n",
       "2  ((28.14064026, 77.37538147), (28.14064026, 77....  \n",
       "3  ((28.14146042, 77.37531281), (28.14145088, 77....  \n",
       "4  ((28.22020912, 77.43312073), (28.22020912, 77....  "
      ]
     },
     "execution_count": 48,
     "metadata": {},
     "output_type": "execute_result"
    }
   ],
   "source": [
    "df3.head()"
   ]
  },
  {
   "cell_type": "markdown",
   "metadata": {},
   "source": [
    "#### A. Distance traveled: total distance (unit: km) covered by each equipment on daily basis"
   ]
  },
  {
   "cell_type": "code",
   "execution_count": 50,
   "metadata": {
    "collapsed": true
   },
   "outputs": [],
   "source": [
    "\n",
    "# function to convert longitude and latitude to distance in km\n",
    "from math import sin, cos, sqrt, atan2, radians\n",
    "\n",
    "def dist_calc(series):\n",
    "    dist_sum = 0\n",
    "    \n",
    "    # approximate radius of earth in km\n",
    "    R = 6373.0\n",
    "    for i in range(0,len(series)-1):\n",
    "        \n",
    "        coords_1 = series[i]\n",
    "        coords_2 = series[i+1]\n",
    "        lat1 = radians(coords_1[0])\n",
    "        lon1 = radians(coords_1[1])\n",
    "        lat2 = radians(coords_2[0])\n",
    "        lon2 = radians(coords_2[1])\n",
    "\n",
    "        dlon = lon2 - lon1\n",
    "        dlat = lat2 - lat1\n",
    "        \n",
    "        a = sin(dlat / 2)**2 + cos(lat1) * cos(lat2) * sin(dlon / 2)**2\n",
    "        c = 2 * atan2(sqrt(a), sqrt(1 - a))\n",
    "\n",
    "        distance = R * c\n",
    "        \n",
    "        dist_sum += distance\n",
    "        \n",
    "    return dist_sum"
   ]
  },
  {
   "cell_type": "code",
   "execution_count": 51,
   "metadata": {
    "collapsed": false
   },
   "outputs": [],
   "source": [
    "df3[\"distance\"] = df3['lat_long'].apply(lambda x: dist_calc(x))"
   ]
  },
  {
   "cell_type": "code",
   "execution_count": null,
   "metadata": {
    "collapsed": true
   },
   "outputs": [],
   "source": []
  },
  {
   "cell_type": "code",
   "execution_count": 57,
   "metadata": {
    "collapsed": false
   },
   "outputs": [
    {
     "data": {
      "text/html": [
       "<div>\n",
       "<style>\n",
       "    .dataframe thead tr:only-child th {\n",
       "        text-align: right;\n",
       "    }\n",
       "\n",
       "    .dataframe thead th {\n",
       "        text-align: left;\n",
       "    }\n",
       "\n",
       "    .dataframe tbody tr th {\n",
       "        vertical-align: top;\n",
       "    }\n",
       "</style>\n",
       "<table border=\"1\" class=\"dataframe\">\n",
       "  <thead>\n",
       "    <tr style=\"text-align: right;\">\n",
       "      <th></th>\n",
       "      <th>packet_generating_station_id</th>\n",
       "      <th>date</th>\n",
       "      <th>lat_long</th>\n",
       "      <th>distance</th>\n",
       "    </tr>\n",
       "  </thead>\n",
       "  <tbody>\n",
       "    <tr>\n",
       "      <th>0</th>\n",
       "      <td>401100000001</td>\n",
       "      <td>2017-12-17</td>\n",
       "      <td>((28.14563942, 77.38845062), (28.14537048, 77....</td>\n",
       "      <td>21.291156</td>\n",
       "    </tr>\n",
       "    <tr>\n",
       "      <th>1</th>\n",
       "      <td>403100000048</td>\n",
       "      <td>2017-12-17</td>\n",
       "      <td>((28.19039917, 77.42134857), (28.19041061, 77....</td>\n",
       "      <td>0.218827</td>\n",
       "    </tr>\n",
       "    <tr>\n",
       "      <th>2</th>\n",
       "      <td>404100000005</td>\n",
       "      <td>2017-12-17</td>\n",
       "      <td>((28.14064026, 77.37538147), (28.14064026, 77....</td>\n",
       "      <td>4.523435</td>\n",
       "    </tr>\n",
       "    <tr>\n",
       "      <th>3</th>\n",
       "      <td>405100000003</td>\n",
       "      <td>2017-12-17</td>\n",
       "      <td>((28.14146042, 77.37531281), (28.14145088, 77....</td>\n",
       "      <td>2.001275</td>\n",
       "    </tr>\n",
       "    <tr>\n",
       "      <th>4</th>\n",
       "      <td>406100000024</td>\n",
       "      <td>2017-12-17</td>\n",
       "      <td>((28.22020912, 77.43312073), (28.22020912, 77....</td>\n",
       "      <td>0.638775</td>\n",
       "    </tr>\n",
       "  </tbody>\n",
       "</table>\n",
       "</div>"
      ],
      "text/plain": [
       "   packet_generating_station_id        date  \\\n",
       "0                  401100000001  2017-12-17   \n",
       "1                  403100000048  2017-12-17   \n",
       "2                  404100000005  2017-12-17   \n",
       "3                  405100000003  2017-12-17   \n",
       "4                  406100000024  2017-12-17   \n",
       "\n",
       "                                            lat_long   distance  \n",
       "0  ((28.14563942, 77.38845062), (28.14537048, 77....  21.291156  \n",
       "1  ((28.19039917, 77.42134857), (28.19041061, 77....   0.218827  \n",
       "2  ((28.14064026, 77.37538147), (28.14064026, 77....   4.523435  \n",
       "3  ((28.14146042, 77.37531281), (28.14145088, 77....   2.001275  \n",
       "4  ((28.22020912, 77.43312073), (28.22020912, 77....   0.638775  "
      ]
     },
     "execution_count": 57,
     "metadata": {},
     "output_type": "execute_result"
    }
   ],
   "source": [
    "# Distance travelled on daily basis\n",
    "df3.head()"
   ]
  },
  {
   "cell_type": "markdown",
   "metadata": {},
   "source": [
    "#### 2. B. ON time: total time (unit: hour) for which ignition of each equipment was ON (track_num1 = 1)"
   ]
  },
  {
   "cell_type": "code",
   "execution_count": 59,
   "metadata": {
    "collapsed": true
   },
   "outputs": [],
   "source": [
    "#trck on =1\n",
    "\n",
    "df4 = df2[['packet_generating_station_id','device_time_stamp','track_num1']][df2['track_num1'] == 1]"
   ]
  },
  {
   "cell_type": "code",
   "execution_count": 60,
   "metadata": {
    "collapsed": false
   },
   "outputs": [
    {
     "data": {
      "text/plain": [
       "(3641, 3)"
      ]
     },
     "execution_count": 60,
     "metadata": {},
     "output_type": "execute_result"
    }
   ],
   "source": [
    "df4.shape"
   ]
  },
  {
   "cell_type": "code",
   "execution_count": 79,
   "metadata": {
    "collapsed": false,
    "scrolled": false
   },
   "outputs": [
    {
     "data": {
      "text/html": [
       "<div>\n",
       "<style>\n",
       "    .dataframe thead tr:only-child th {\n",
       "        text-align: right;\n",
       "    }\n",
       "\n",
       "    .dataframe thead th {\n",
       "        text-align: left;\n",
       "    }\n",
       "\n",
       "    .dataframe tbody tr th {\n",
       "        vertical-align: top;\n",
       "    }\n",
       "</style>\n",
       "<table border=\"1\" class=\"dataframe\">\n",
       "  <thead>\n",
       "    <tr style=\"text-align: right;\">\n",
       "      <th></th>\n",
       "      <th>packet_generating_station_id</th>\n",
       "      <th>device_time_stamp</th>\n",
       "      <th>track_num1</th>\n",
       "    </tr>\n",
       "  </thead>\n",
       "  <tbody>\n",
       "    <tr>\n",
       "      <th>197282</th>\n",
       "      <td>801100000024</td>\n",
       "      <td>2017-12-17 08:02:00</td>\n",
       "      <td>1</td>\n",
       "    </tr>\n",
       "    <tr>\n",
       "      <th>197283</th>\n",
       "      <td>801100000024</td>\n",
       "      <td>2017-12-17 08:03:00</td>\n",
       "      <td>1</td>\n",
       "    </tr>\n",
       "    <tr>\n",
       "      <th>197284</th>\n",
       "      <td>801100000024</td>\n",
       "      <td>2017-12-17 08:04:00</td>\n",
       "      <td>1</td>\n",
       "    </tr>\n",
       "    <tr>\n",
       "      <th>197285</th>\n",
       "      <td>801100000024</td>\n",
       "      <td>2017-12-17 08:05:00</td>\n",
       "      <td>1</td>\n",
       "    </tr>\n",
       "    <tr>\n",
       "      <th>197286</th>\n",
       "      <td>801100000024</td>\n",
       "      <td>2017-12-17 08:06:00</td>\n",
       "      <td>1</td>\n",
       "    </tr>\n",
       "    <tr>\n",
       "      <th>197287</th>\n",
       "      <td>801100000024</td>\n",
       "      <td>2017-12-17 08:07:00</td>\n",
       "      <td>1</td>\n",
       "    </tr>\n",
       "    <tr>\n",
       "      <th>197288</th>\n",
       "      <td>801100000024</td>\n",
       "      <td>2017-12-17 08:08:00</td>\n",
       "      <td>1</td>\n",
       "    </tr>\n",
       "    <tr>\n",
       "      <th>197289</th>\n",
       "      <td>801100000024</td>\n",
       "      <td>2017-12-17 08:09:00</td>\n",
       "      <td>1</td>\n",
       "    </tr>\n",
       "    <tr>\n",
       "      <th>197304</th>\n",
       "      <td>801100000024</td>\n",
       "      <td>2017-12-17 08:24:00</td>\n",
       "      <td>1</td>\n",
       "    </tr>\n",
       "    <tr>\n",
       "      <th>197305</th>\n",
       "      <td>801100000024</td>\n",
       "      <td>2017-12-17 08:25:00</td>\n",
       "      <td>1</td>\n",
       "    </tr>\n",
       "    <tr>\n",
       "      <th>197306</th>\n",
       "      <td>801100000024</td>\n",
       "      <td>2017-12-17 08:26:00</td>\n",
       "      <td>1</td>\n",
       "    </tr>\n",
       "    <tr>\n",
       "      <th>197307</th>\n",
       "      <td>801100000024</td>\n",
       "      <td>2017-12-17 08:27:00</td>\n",
       "      <td>1</td>\n",
       "    </tr>\n",
       "    <tr>\n",
       "      <th>197308</th>\n",
       "      <td>801100000024</td>\n",
       "      <td>2017-12-17 08:28:00</td>\n",
       "      <td>1</td>\n",
       "    </tr>\n",
       "    <tr>\n",
       "      <th>197309</th>\n",
       "      <td>801100000024</td>\n",
       "      <td>2017-12-17 08:29:00</td>\n",
       "      <td>1</td>\n",
       "    </tr>\n",
       "    <tr>\n",
       "      <th>197310</th>\n",
       "      <td>801100000024</td>\n",
       "      <td>2017-12-17 08:30:00</td>\n",
       "      <td>1</td>\n",
       "    </tr>\n",
       "    <tr>\n",
       "      <th>197311</th>\n",
       "      <td>801100000024</td>\n",
       "      <td>2017-12-17 08:31:00</td>\n",
       "      <td>1</td>\n",
       "    </tr>\n",
       "    <tr>\n",
       "      <th>197312</th>\n",
       "      <td>801100000024</td>\n",
       "      <td>2017-12-17 08:32:00</td>\n",
       "      <td>1</td>\n",
       "    </tr>\n",
       "    <tr>\n",
       "      <th>197313</th>\n",
       "      <td>801100000024</td>\n",
       "      <td>2017-12-17 08:33:00</td>\n",
       "      <td>1</td>\n",
       "    </tr>\n",
       "    <tr>\n",
       "      <th>197314</th>\n",
       "      <td>801100000024</td>\n",
       "      <td>2017-12-17 08:34:00</td>\n",
       "      <td>1</td>\n",
       "    </tr>\n",
       "    <tr>\n",
       "      <th>197315</th>\n",
       "      <td>801100000024</td>\n",
       "      <td>2017-12-17 08:35:00</td>\n",
       "      <td>1</td>\n",
       "    </tr>\n",
       "    <tr>\n",
       "      <th>197316</th>\n",
       "      <td>801100000024</td>\n",
       "      <td>2017-12-17 08:36:00</td>\n",
       "      <td>1</td>\n",
       "    </tr>\n",
       "    <tr>\n",
       "      <th>197317</th>\n",
       "      <td>801100000024</td>\n",
       "      <td>2017-12-17 08:37:00</td>\n",
       "      <td>1</td>\n",
       "    </tr>\n",
       "    <tr>\n",
       "      <th>197318</th>\n",
       "      <td>801100000024</td>\n",
       "      <td>2017-12-17 08:38:00</td>\n",
       "      <td>1</td>\n",
       "    </tr>\n",
       "    <tr>\n",
       "      <th>197319</th>\n",
       "      <td>801100000024</td>\n",
       "      <td>2017-12-17 08:39:00</td>\n",
       "      <td>1</td>\n",
       "    </tr>\n",
       "    <tr>\n",
       "      <th>197320</th>\n",
       "      <td>801100000024</td>\n",
       "      <td>2017-12-17 08:40:00</td>\n",
       "      <td>1</td>\n",
       "    </tr>\n",
       "    <tr>\n",
       "      <th>197321</th>\n",
       "      <td>801100000024</td>\n",
       "      <td>2017-12-17 08:41:00</td>\n",
       "      <td>1</td>\n",
       "    </tr>\n",
       "    <tr>\n",
       "      <th>197322</th>\n",
       "      <td>801100000024</td>\n",
       "      <td>2017-12-17 08:42:00</td>\n",
       "      <td>1</td>\n",
       "    </tr>\n",
       "    <tr>\n",
       "      <th>197323</th>\n",
       "      <td>801100000024</td>\n",
       "      <td>2017-12-17 08:43:00</td>\n",
       "      <td>1</td>\n",
       "    </tr>\n",
       "    <tr>\n",
       "      <th>197324</th>\n",
       "      <td>801100000024</td>\n",
       "      <td>2017-12-17 08:44:00</td>\n",
       "      <td>1</td>\n",
       "    </tr>\n",
       "    <tr>\n",
       "      <th>197325</th>\n",
       "      <td>801100000024</td>\n",
       "      <td>2017-12-17 08:45:00</td>\n",
       "      <td>1</td>\n",
       "    </tr>\n",
       "    <tr>\n",
       "      <th>...</th>\n",
       "      <td>...</td>\n",
       "      <td>...</td>\n",
       "      <td>...</td>\n",
       "    </tr>\n",
       "    <tr>\n",
       "      <th>235367</th>\n",
       "      <td>701800000007</td>\n",
       "      <td>2017-12-17 20:20:00</td>\n",
       "      <td>1</td>\n",
       "    </tr>\n",
       "    <tr>\n",
       "      <th>235368</th>\n",
       "      <td>701800000007</td>\n",
       "      <td>2017-12-17 20:21:00</td>\n",
       "      <td>1</td>\n",
       "    </tr>\n",
       "    <tr>\n",
       "      <th>235369</th>\n",
       "      <td>701800000007</td>\n",
       "      <td>2017-12-17 20:22:00</td>\n",
       "      <td>1</td>\n",
       "    </tr>\n",
       "    <tr>\n",
       "      <th>235370</th>\n",
       "      <td>701800000007</td>\n",
       "      <td>2017-12-17 20:23:00</td>\n",
       "      <td>1</td>\n",
       "    </tr>\n",
       "    <tr>\n",
       "      <th>235371</th>\n",
       "      <td>701800000007</td>\n",
       "      <td>2017-12-17 20:24:00</td>\n",
       "      <td>1</td>\n",
       "    </tr>\n",
       "    <tr>\n",
       "      <th>235372</th>\n",
       "      <td>701800000007</td>\n",
       "      <td>2017-12-17 20:25:00</td>\n",
       "      <td>1</td>\n",
       "    </tr>\n",
       "    <tr>\n",
       "      <th>235373</th>\n",
       "      <td>701800000007</td>\n",
       "      <td>2017-12-17 20:26:00</td>\n",
       "      <td>1</td>\n",
       "    </tr>\n",
       "    <tr>\n",
       "      <th>235374</th>\n",
       "      <td>701800000007</td>\n",
       "      <td>2017-12-17 20:27:00</td>\n",
       "      <td>1</td>\n",
       "    </tr>\n",
       "    <tr>\n",
       "      <th>235375</th>\n",
       "      <td>701800000007</td>\n",
       "      <td>2017-12-17 20:28:00</td>\n",
       "      <td>1</td>\n",
       "    </tr>\n",
       "    <tr>\n",
       "      <th>235376</th>\n",
       "      <td>701800000007</td>\n",
       "      <td>2017-12-17 20:29:00</td>\n",
       "      <td>1</td>\n",
       "    </tr>\n",
       "    <tr>\n",
       "      <th>235377</th>\n",
       "      <td>701800000007</td>\n",
       "      <td>2017-12-17 20:30:00</td>\n",
       "      <td>1</td>\n",
       "    </tr>\n",
       "    <tr>\n",
       "      <th>235378</th>\n",
       "      <td>701800000007</td>\n",
       "      <td>2017-12-17 20:31:00</td>\n",
       "      <td>1</td>\n",
       "    </tr>\n",
       "    <tr>\n",
       "      <th>235379</th>\n",
       "      <td>701800000007</td>\n",
       "      <td>2017-12-17 20:32:00</td>\n",
       "      <td>1</td>\n",
       "    </tr>\n",
       "    <tr>\n",
       "      <th>235380</th>\n",
       "      <td>701800000007</td>\n",
       "      <td>2017-12-17 20:33:00</td>\n",
       "      <td>1</td>\n",
       "    </tr>\n",
       "    <tr>\n",
       "      <th>235381</th>\n",
       "      <td>701800000007</td>\n",
       "      <td>2017-12-17 20:34:00</td>\n",
       "      <td>1</td>\n",
       "    </tr>\n",
       "    <tr>\n",
       "      <th>235382</th>\n",
       "      <td>701800000007</td>\n",
       "      <td>2017-12-17 20:35:00</td>\n",
       "      <td>1</td>\n",
       "    </tr>\n",
       "    <tr>\n",
       "      <th>235383</th>\n",
       "      <td>701800000007</td>\n",
       "      <td>2017-12-17 20:36:00</td>\n",
       "      <td>1</td>\n",
       "    </tr>\n",
       "    <tr>\n",
       "      <th>235384</th>\n",
       "      <td>701800000007</td>\n",
       "      <td>2017-12-17 20:37:00</td>\n",
       "      <td>1</td>\n",
       "    </tr>\n",
       "    <tr>\n",
       "      <th>235385</th>\n",
       "      <td>701800000007</td>\n",
       "      <td>2017-12-17 20:38:00</td>\n",
       "      <td>1</td>\n",
       "    </tr>\n",
       "    <tr>\n",
       "      <th>235386</th>\n",
       "      <td>701800000007</td>\n",
       "      <td>2017-12-17 20:39:00</td>\n",
       "      <td>1</td>\n",
       "    </tr>\n",
       "    <tr>\n",
       "      <th>235387</th>\n",
       "      <td>701800000007</td>\n",
       "      <td>2017-12-17 20:40:00</td>\n",
       "      <td>1</td>\n",
       "    </tr>\n",
       "    <tr>\n",
       "      <th>235388</th>\n",
       "      <td>701800000007</td>\n",
       "      <td>2017-12-17 20:41:00</td>\n",
       "      <td>1</td>\n",
       "    </tr>\n",
       "    <tr>\n",
       "      <th>235389</th>\n",
       "      <td>701800000007</td>\n",
       "      <td>2017-12-17 20:42:00</td>\n",
       "      <td>1</td>\n",
       "    </tr>\n",
       "    <tr>\n",
       "      <th>235390</th>\n",
       "      <td>701800000007</td>\n",
       "      <td>2017-12-17 20:43:00</td>\n",
       "      <td>1</td>\n",
       "    </tr>\n",
       "    <tr>\n",
       "      <th>235391</th>\n",
       "      <td>701800000007</td>\n",
       "      <td>2017-12-17 20:44:00</td>\n",
       "      <td>1</td>\n",
       "    </tr>\n",
       "    <tr>\n",
       "      <th>235392</th>\n",
       "      <td>701800000007</td>\n",
       "      <td>2017-12-17 20:44:00</td>\n",
       "      <td>1</td>\n",
       "    </tr>\n",
       "    <tr>\n",
       "      <th>235439</th>\n",
       "      <td>701800000007</td>\n",
       "      <td>2017-12-17 21:59:00</td>\n",
       "      <td>1</td>\n",
       "    </tr>\n",
       "    <tr>\n",
       "      <th>235440</th>\n",
       "      <td>701800000007</td>\n",
       "      <td>2017-12-17 22:00:00</td>\n",
       "      <td>1</td>\n",
       "    </tr>\n",
       "    <tr>\n",
       "      <th>235441</th>\n",
       "      <td>701800000007</td>\n",
       "      <td>2017-12-17 22:01:00</td>\n",
       "      <td>1</td>\n",
       "    </tr>\n",
       "    <tr>\n",
       "      <th>235442</th>\n",
       "      <td>701800000007</td>\n",
       "      <td>2017-12-17 22:02:00</td>\n",
       "      <td>1</td>\n",
       "    </tr>\n",
       "  </tbody>\n",
       "</table>\n",
       "<p>3641 rows × 3 columns</p>\n",
       "</div>"
      ],
      "text/plain": [
       "       packet_generating_station_id   device_time_stamp track_num1\n",
       "197282                 801100000024 2017-12-17 08:02:00          1\n",
       "197283                 801100000024 2017-12-17 08:03:00          1\n",
       "197284                 801100000024 2017-12-17 08:04:00          1\n",
       "197285                 801100000024 2017-12-17 08:05:00          1\n",
       "197286                 801100000024 2017-12-17 08:06:00          1\n",
       "197287                 801100000024 2017-12-17 08:07:00          1\n",
       "197288                 801100000024 2017-12-17 08:08:00          1\n",
       "197289                 801100000024 2017-12-17 08:09:00          1\n",
       "197304                 801100000024 2017-12-17 08:24:00          1\n",
       "197305                 801100000024 2017-12-17 08:25:00          1\n",
       "197306                 801100000024 2017-12-17 08:26:00          1\n",
       "197307                 801100000024 2017-12-17 08:27:00          1\n",
       "197308                 801100000024 2017-12-17 08:28:00          1\n",
       "197309                 801100000024 2017-12-17 08:29:00          1\n",
       "197310                 801100000024 2017-12-17 08:30:00          1\n",
       "197311                 801100000024 2017-12-17 08:31:00          1\n",
       "197312                 801100000024 2017-12-17 08:32:00          1\n",
       "197313                 801100000024 2017-12-17 08:33:00          1\n",
       "197314                 801100000024 2017-12-17 08:34:00          1\n",
       "197315                 801100000024 2017-12-17 08:35:00          1\n",
       "197316                 801100000024 2017-12-17 08:36:00          1\n",
       "197317                 801100000024 2017-12-17 08:37:00          1\n",
       "197318                 801100000024 2017-12-17 08:38:00          1\n",
       "197319                 801100000024 2017-12-17 08:39:00          1\n",
       "197320                 801100000024 2017-12-17 08:40:00          1\n",
       "197321                 801100000024 2017-12-17 08:41:00          1\n",
       "197322                 801100000024 2017-12-17 08:42:00          1\n",
       "197323                 801100000024 2017-12-17 08:43:00          1\n",
       "197324                 801100000024 2017-12-17 08:44:00          1\n",
       "197325                 801100000024 2017-12-17 08:45:00          1\n",
       "...                             ...                 ...        ...\n",
       "235367                 701800000007 2017-12-17 20:20:00          1\n",
       "235368                 701800000007 2017-12-17 20:21:00          1\n",
       "235369                 701800000007 2017-12-17 20:22:00          1\n",
       "235370                 701800000007 2017-12-17 20:23:00          1\n",
       "235371                 701800000007 2017-12-17 20:24:00          1\n",
       "235372                 701800000007 2017-12-17 20:25:00          1\n",
       "235373                 701800000007 2017-12-17 20:26:00          1\n",
       "235374                 701800000007 2017-12-17 20:27:00          1\n",
       "235375                 701800000007 2017-12-17 20:28:00          1\n",
       "235376                 701800000007 2017-12-17 20:29:00          1\n",
       "235377                 701800000007 2017-12-17 20:30:00          1\n",
       "235378                 701800000007 2017-12-17 20:31:00          1\n",
       "235379                 701800000007 2017-12-17 20:32:00          1\n",
       "235380                 701800000007 2017-12-17 20:33:00          1\n",
       "235381                 701800000007 2017-12-17 20:34:00          1\n",
       "235382                 701800000007 2017-12-17 20:35:00          1\n",
       "235383                 701800000007 2017-12-17 20:36:00          1\n",
       "235384                 701800000007 2017-12-17 20:37:00          1\n",
       "235385                 701800000007 2017-12-17 20:38:00          1\n",
       "235386                 701800000007 2017-12-17 20:39:00          1\n",
       "235387                 701800000007 2017-12-17 20:40:00          1\n",
       "235388                 701800000007 2017-12-17 20:41:00          1\n",
       "235389                 701800000007 2017-12-17 20:42:00          1\n",
       "235390                 701800000007 2017-12-17 20:43:00          1\n",
       "235391                 701800000007 2017-12-17 20:44:00          1\n",
       "235392                 701800000007 2017-12-17 20:44:00          1\n",
       "235439                 701800000007 2017-12-17 21:59:00          1\n",
       "235440                 701800000007 2017-12-17 22:00:00          1\n",
       "235441                 701800000007 2017-12-17 22:01:00          1\n",
       "235442                 701800000007 2017-12-17 22:02:00          1\n",
       "\n",
       "[3641 rows x 3 columns]"
      ]
     },
     "execution_count": 79,
     "metadata": {},
     "output_type": "execute_result"
    }
   ],
   "source": [
    "df4"
   ]
  },
  {
   "cell_type": "code",
   "execution_count": 89,
   "metadata": {
    "collapsed": false
   },
   "outputs": [],
   "source": [
    "#Convert timestamp to seconds\n",
    "df4['time_seconds'] = df4['device_time_stamp'].apply(lambda x: (x-datetime(1970,1,1,0,0,0)).total_seconds())"
   ]
  },
  {
   "cell_type": "code",
   "execution_count": 98,
   "metadata": {
    "collapsed": false
   },
   "outputs": [],
   "source": [
    "df5 = df4.groupby(['packet_generating_station_id']).agg({'time_seconds':conv_list}).reset_index()"
   ]
  },
  {
   "cell_type": "code",
   "execution_count": 100,
   "metadata": {
    "collapsed": false
   },
   "outputs": [
    {
     "data": {
      "text/plain": [
       "(18, 2)"
      ]
     },
     "execution_count": 100,
     "metadata": {},
     "output_type": "execute_result"
    }
   ],
   "source": [
    "df5.shape"
   ]
  },
  {
   "cell_type": "code",
   "execution_count": 102,
   "metadata": {
    "collapsed": false
   },
   "outputs": [],
   "source": [
    "def on_time(series):\n",
    "    total_time = 0\n",
    "    \n",
    "    for i in range(0,len(series)-1):\n",
    "        t1 = series[i]\n",
    "        t2 = series[i+1]\n",
    "    \n",
    "        total_time += abs(t1-t2)/ 3600.0\n",
    "        \n",
    "    return total_time\n",
    "\n"
   ]
  },
  {
   "cell_type": "code",
   "execution_count": 104,
   "metadata": {
    "collapsed": false
   },
   "outputs": [],
   "source": [
    "df5[\"on_time\"] = df5['time_seconds'].apply(lambda x: on_time(x))"
   ]
  },
  {
   "cell_type": "code",
   "execution_count": 106,
   "metadata": {
    "collapsed": false
   },
   "outputs": [
    {
     "data": {
      "text/html": [
       "<div>\n",
       "<style>\n",
       "    .dataframe thead tr:only-child th {\n",
       "        text-align: right;\n",
       "    }\n",
       "\n",
       "    .dataframe thead th {\n",
       "        text-align: left;\n",
       "    }\n",
       "\n",
       "    .dataframe tbody tr th {\n",
       "        vertical-align: top;\n",
       "    }\n",
       "</style>\n",
       "<table border=\"1\" class=\"dataframe\">\n",
       "  <thead>\n",
       "    <tr style=\"text-align: right;\">\n",
       "      <th></th>\n",
       "      <th>packet_generating_station_id</th>\n",
       "      <th>on_time</th>\n",
       "    </tr>\n",
       "  </thead>\n",
       "  <tbody>\n",
       "    <tr>\n",
       "      <th>0</th>\n",
       "      <td>408300000002</td>\n",
       "      <td>8.783333</td>\n",
       "    </tr>\n",
       "    <tr>\n",
       "      <th>1</th>\n",
       "      <td>409100000006</td>\n",
       "      <td>1.833333</td>\n",
       "    </tr>\n",
       "    <tr>\n",
       "      <th>2</th>\n",
       "      <td>410100000004</td>\n",
       "      <td>9.916667</td>\n",
       "    </tr>\n",
       "    <tr>\n",
       "      <th>3</th>\n",
       "      <td>415200000003</td>\n",
       "      <td>1.633333</td>\n",
       "    </tr>\n",
       "    <tr>\n",
       "      <th>4</th>\n",
       "      <td>701800000007</td>\n",
       "      <td>13.666667</td>\n",
       "    </tr>\n",
       "    <tr>\n",
       "      <th>5</th>\n",
       "      <td>801100000024</td>\n",
       "      <td>10.500000</td>\n",
       "    </tr>\n",
       "    <tr>\n",
       "      <th>6</th>\n",
       "      <td>801100000035</td>\n",
       "      <td>9.116667</td>\n",
       "    </tr>\n",
       "    <tr>\n",
       "      <th>7</th>\n",
       "      <td>801100000060</td>\n",
       "      <td>9.700000</td>\n",
       "    </tr>\n",
       "    <tr>\n",
       "      <th>8</th>\n",
       "      <td>801100000101</td>\n",
       "      <td>9.300000</td>\n",
       "    </tr>\n",
       "    <tr>\n",
       "      <th>9</th>\n",
       "      <td>802100000001</td>\n",
       "      <td>9.533333</td>\n",
       "    </tr>\n",
       "    <tr>\n",
       "      <th>10</th>\n",
       "      <td>803100000188</td>\n",
       "      <td>13.566667</td>\n",
       "    </tr>\n",
       "    <tr>\n",
       "      <th>11</th>\n",
       "      <td>803100000194</td>\n",
       "      <td>9.066667</td>\n",
       "    </tr>\n",
       "    <tr>\n",
       "      <th>12</th>\n",
       "      <td>803100000195</td>\n",
       "      <td>9.466667</td>\n",
       "    </tr>\n",
       "    <tr>\n",
       "      <th>13</th>\n",
       "      <td>803100000197</td>\n",
       "      <td>11.200000</td>\n",
       "    </tr>\n",
       "    <tr>\n",
       "      <th>14</th>\n",
       "      <td>803100000202</td>\n",
       "      <td>23.666667</td>\n",
       "    </tr>\n",
       "    <tr>\n",
       "      <th>15</th>\n",
       "      <td>803100000203</td>\n",
       "      <td>10.500000</td>\n",
       "    </tr>\n",
       "    <tr>\n",
       "      <th>16</th>\n",
       "      <td>803100000205</td>\n",
       "      <td>21.250000</td>\n",
       "    </tr>\n",
       "    <tr>\n",
       "      <th>17</th>\n",
       "      <td>809100000003</td>\n",
       "      <td>5.416667</td>\n",
       "    </tr>\n",
       "  </tbody>\n",
       "</table>\n",
       "</div>"
      ],
      "text/plain": [
       "    packet_generating_station_id    on_time\n",
       "0                   408300000002   8.783333\n",
       "1                   409100000006   1.833333\n",
       "2                   410100000004   9.916667\n",
       "3                   415200000003   1.633333\n",
       "4                   701800000007  13.666667\n",
       "5                   801100000024  10.500000\n",
       "6                   801100000035   9.116667\n",
       "7                   801100000060   9.700000\n",
       "8                   801100000101   9.300000\n",
       "9                   802100000001   9.533333\n",
       "10                  803100000188  13.566667\n",
       "11                  803100000194   9.066667\n",
       "12                  803100000195   9.466667\n",
       "13                  803100000197  11.200000\n",
       "14                  803100000202  23.666667\n",
       "15                  803100000203  10.500000\n",
       "16                  803100000205  21.250000\n",
       "17                  809100000003   5.416667"
      ]
     },
     "execution_count": 106,
     "metadata": {},
     "output_type": "execute_result"
    }
   ],
   "source": [
    "df5[['packet_generating_station_id','on_time']]"
   ]
  },
  {
   "cell_type": "markdown",
   "metadata": {},
   "source": [
    "#### 3. C. Equipments in the vicinity: if a main equipment is at the location of (latitude = 28.09029007, longitude = 77.33970642), provide a map (one map for each day) showing:\n",
    "#### a. geofence/circle of radius=100m around the main equipment; \n",
    "#### b. Equipments present inside fence between 9:00am and 9:10am (one map each day)"
   ]
  },
  {
   "cell_type": "code",
   "execution_count": 115,
   "metadata": {
    "collapsed": false
   },
   "outputs": [],
   "source": [
    "df2['latitude_gps'] = df2['latitude_gps'].astype(float)\n",
    "df2['longitude_gps'] = df2['longitude_gps'].astype(float)"
   ]
  },
  {
   "cell_type": "code",
   "execution_count": 150,
   "metadata": {
    "collapsed": false
   },
   "outputs": [
    {
     "data": {
      "text/html": [
       "<div>\n",
       "<style>\n",
       "    .dataframe thead tr:only-child th {\n",
       "        text-align: right;\n",
       "    }\n",
       "\n",
       "    .dataframe thead th {\n",
       "        text-align: left;\n",
       "    }\n",
       "\n",
       "    .dataframe tbody tr th {\n",
       "        vertical-align: top;\n",
       "    }\n",
       "</style>\n",
       "<table border=\"1\" class=\"dataframe\">\n",
       "  <thead>\n",
       "    <tr style=\"text-align: right;\">\n",
       "      <th></th>\n",
       "      <th>track_record_id</th>\n",
       "      <th>status_code</th>\n",
       "      <th>latitude_gps</th>\n",
       "      <th>longitude_gps</th>\n",
       "      <th>device_id_x</th>\n",
       "      <th>device_time_stamp</th>\n",
       "      <th>asset_type</th>\n",
       "      <th>packet_generating_station_id</th>\n",
       "      <th>track_num1</th>\n",
       "      <th>asset_id_project</th>\n",
       "      <th>project_id</th>\n",
       "      <th>supportsite_id</th>\n",
       "      <th>lat_long</th>\n",
       "      <th>date</th>\n",
       "    </tr>\n",
       "  </thead>\n",
       "  <tbody>\n",
       "  </tbody>\n",
       "</table>\n",
       "</div>"
      ],
      "text/plain": [
       "Empty DataFrame\n",
       "Columns: [track_record_id, status_code, latitude_gps, longitude_gps, device_id_x, device_time_stamp, asset_type, packet_generating_station_id, track_num1, asset_id_project, project_id, supportsite_id, lat_long, date]\n",
       "Index: []"
      ]
     },
     "execution_count": 150,
     "metadata": {},
     "output_type": "execute_result"
    }
   ],
   "source": [
    "df2[(df2['latitude_gps'] == 28.09029007)&(df2['longitude_gps'] == 77.33970642)]"
   ]
  }
 ],
 "metadata": {
  "kernelspec": {
   "display_name": "Python 3",
   "language": "python",
   "name": "python3"
  },
  "language_info": {
   "codemirror_mode": {
    "name": "ipython",
    "version": 3
   },
   "file_extension": ".py",
   "mimetype": "text/x-python",
   "name": "python",
   "nbconvert_exporter": "python",
   "pygments_lexer": "ipython3",
   "version": "3.6.0"
  }
 },
 "nbformat": 4,
 "nbformat_minor": 2
}
